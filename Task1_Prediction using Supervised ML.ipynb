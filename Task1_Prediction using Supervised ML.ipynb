{
 "cells": [
  {
   "cell_type": "markdown",
   "id": "1382fa02",
   "metadata": {
    "slideshow": {
     "slide_type": "slide"
    }
   },
   "source": [
    "                                                    #TASK1 \n",
    "                                                    \n",
    "                                                    \n",
    "                                                   \n",
    "# The Sparks Foundation\n",
    "## Data Science & Business Analytics \n",
    "   Afroza sharmin urmi\n",
    "\n",
    "## Task: Prediction using Supervised ML\n",
    "Predict the percentage of score based on given number of an student study hours per day.\n",
    "\n",
    "Language: Python   \n",
    "IDE: jupyter notebook\n",
    "         \n",
    "                                       \n",
    "                                       \n",
    "                                       Let's get Started!\n",
    "                                          \n",
    "                                          "
   ]
  },
  {
   "cell_type": "markdown",
   "id": "b823cb37",
   "metadata": {},
   "source": [
    "# Getting started with importing libraries"
   ]
  },
  {
   "cell_type": "code",
   "execution_count": 1,
   "id": "0b16705b",
   "metadata": {},
   "outputs": [],
   "source": [
    "import pandas as pd\n",
    "import numpy as np  \n",
    "import matplotlib.pyplot as plt  \n",
    "import seaborn as sns\n",
    "%matplotlib inline"
   ]
  },
  {
   "cell_type": "markdown",
   "id": "43f5cd17",
   "metadata": {},
   "source": [
    "## Importing Dataset"
   ]
  },
  {
   "cell_type": "code",
   "execution_count": 2,
   "id": "ed37bd37",
   "metadata": {},
   "outputs": [
    {
     "name": "stdout",
     "output_type": "stream",
     "text": [
      "Data imported successfully!\n"
     ]
    }
   ],
   "source": [
    "import pandas\n",
    "s_data=pd.read_csv('student.csv',encoding='latin-1')\n",
    "print(\"Data imported successfully!\")"
   ]
  },
  {
   "cell_type": "markdown",
   "id": "5222227c",
   "metadata": {},
   "source": [
    "## Concise description of dataset"
   ]
  },
  {
   "cell_type": "code",
   "execution_count": 3,
   "id": "0f16164e",
   "metadata": {},
   "outputs": [
    {
     "data": {
      "text/html": [
       "<div>\n",
       "<style scoped>\n",
       "    .dataframe tbody tr th:only-of-type {\n",
       "        vertical-align: middle;\n",
       "    }\n",
       "\n",
       "    .dataframe tbody tr th {\n",
       "        vertical-align: top;\n",
       "    }\n",
       "\n",
       "    .dataframe thead th {\n",
       "        text-align: right;\n",
       "    }\n",
       "</style>\n",
       "<table border=\"1\" class=\"dataframe\">\n",
       "  <thead>\n",
       "    <tr style=\"text-align: right;\">\n",
       "      <th></th>\n",
       "      <th>Hours</th>\n",
       "      <th>Scores</th>\n",
       "    </tr>\n",
       "  </thead>\n",
       "  <tbody>\n",
       "    <tr>\n",
       "      <th>0</th>\n",
       "      <td>2.5</td>\n",
       "      <td>21</td>\n",
       "    </tr>\n",
       "    <tr>\n",
       "      <th>1</th>\n",
       "      <td>5.1</td>\n",
       "      <td>47</td>\n",
       "    </tr>\n",
       "    <tr>\n",
       "      <th>2</th>\n",
       "      <td>3.2</td>\n",
       "      <td>27</td>\n",
       "    </tr>\n",
       "    <tr>\n",
       "      <th>3</th>\n",
       "      <td>8.5</td>\n",
       "      <td>75</td>\n",
       "    </tr>\n",
       "    <tr>\n",
       "      <th>4</th>\n",
       "      <td>3.5</td>\n",
       "      <td>30</td>\n",
       "    </tr>\n",
       "    <tr>\n",
       "      <th>5</th>\n",
       "      <td>1.5</td>\n",
       "      <td>20</td>\n",
       "    </tr>\n",
       "    <tr>\n",
       "      <th>6</th>\n",
       "      <td>9.2</td>\n",
       "      <td>88</td>\n",
       "    </tr>\n",
       "    <tr>\n",
       "      <th>7</th>\n",
       "      <td>5.5</td>\n",
       "      <td>60</td>\n",
       "    </tr>\n",
       "    <tr>\n",
       "      <th>8</th>\n",
       "      <td>8.3</td>\n",
       "      <td>81</td>\n",
       "    </tr>\n",
       "    <tr>\n",
       "      <th>9</th>\n",
       "      <td>2.7</td>\n",
       "      <td>25</td>\n",
       "    </tr>\n",
       "  </tbody>\n",
       "</table>\n",
       "</div>"
      ],
      "text/plain": [
       "   Hours  Scores\n",
       "0    2.5      21\n",
       "1    5.1      47\n",
       "2    3.2      27\n",
       "3    8.5      75\n",
       "4    3.5      30\n",
       "5    1.5      20\n",
       "6    9.2      88\n",
       "7    5.5      60\n",
       "8    8.3      81\n",
       "9    2.7      25"
      ]
     },
     "execution_count": 3,
     "metadata": {},
     "output_type": "execute_result"
    }
   ],
   "source": [
    "s_data.describe()\n",
    "s_data.tail()\n",
    "s_data.shape # how many values are in there\n",
    "s_data.size  # size in byte\n",
    "s_data.count() # columnwise availabe values\n",
    "s_data.head(10) "
   ]
  },
  {
   "cell_type": "markdown",
   "id": "bee5b1e1",
   "metadata": {},
   "source": [
    "# Analyzing data"
   ]
  },
  {
   "cell_type": "markdown",
   "id": "14af2dc2",
   "metadata": {},
   "source": [
    "## Plotting the distribution of scores"
   ]
  },
  {
   "cell_type": "code",
   "execution_count": 4,
   "id": "0c094b7e",
   "metadata": {
    "scrolled": true
   },
   "outputs": [
    {
     "data": {
      "image/png": "[encoded data removed]",
      "text/plain": [
       "<Figure size 432x288 with 1 Axes>"
      ]
     },
     "metadata": {
      "needs_background": "light"
     },
     "output_type": "display_data"
    }
   ],
   "source": [
    "s_data.plot(x='Hours', y='Scores', style='o')  \n",
    "plt.title('study vs score')  \n",
    "plt.xlabel('Hours Studied')  \n",
    "plt.ylabel('Percentage Score')  \n",
    "plt.show()"
   ]
  },
  {
   "cell_type": "markdown",
   "id": "fbfb3d2f",
   "metadata": {},
   "source": [
    "As we can see, Above graph shown a positive linear relation between the number of hours studied and percentage of score."
   ]
  },
  {
   "cell_type": "markdown",
   "id": "8736ae69",
   "metadata": {},
   "source": [
    "## Data Preparation"
   ]
  },
  {
   "cell_type": "code",
   "execution_count": 5,
   "id": "e4741405",
   "metadata": {},
   "outputs": [],
   "source": [
    "X = s_data.iloc[:, :-1].values  \n",
    "y = s_data.iloc[:, 1].values "
   ]
  },
  {
   "cell_type": "markdown",
   "id": "5e61c2d6",
   "metadata": {},
   "source": [
    "## Splitting Dataset"
   ]
  },
  {
   "cell_type": "code",
   "execution_count": 6,
   "id": "d7e98d6f",
   "metadata": {},
   "outputs": [],
   "source": [
    "from sklearn.model_selection import train_test_split  \n",
    "X_train, X_test, y_train, y_test = train_test_split(X, y, \n",
    "                            test_size=0.2, random_state=0) "
   ]
  },
  {
   "cell_type": "code",
   "execution_count": 7,
   "id": "7eb88646",
   "metadata": {},
   "outputs": [
    {
     "data": {
      "text/plain": [
       "array([35, 24, 86, 76, 17, 47, 85, 42, 81, 88, 67, 30, 25, 60, 30, 75, 21,\n",
       "       54, 95, 41], dtype=int64)"
      ]
     },
     "execution_count": 7,
     "metadata": {},
     "output_type": "execute_result"
    }
   ],
   "source": [
    "X_train  # Trainned data\n",
    "y_train  #Testing data"
   ]
  },
  {
   "cell_type": "markdown",
   "id": "c8f4457d",
   "metadata": {},
   "source": [
    "# Implementation of Classifier"
   ]
  },
  {
   "cell_type": "markdown",
   "id": "4467d0e6",
   "metadata": {},
   "source": [
    "Since our dataset split into train and test, now it's time to train our classifier."
   ]
  },
  {
   "cell_type": "code",
   "execution_count": 8,
   "id": "bc4a2980",
   "metadata": {},
   "outputs": [
    {
     "name": "stdout",
     "output_type": "stream",
     "text": [
      "Completion of Training.\n"
     ]
    }
   ],
   "source": [
    "from sklearn.linear_model import LinearRegression  \n",
    "regressor = LinearRegression()  \n",
    "regressor.fit(X_train, y_train) \n",
    "\n",
    "print(\"Completion of Training.\")"
   ]
  },
  {
   "cell_type": "markdown",
   "id": "9bb8a6a9",
   "metadata": {},
   "source": [
    "## Visualization of Data using Matplotlib"
   ]
  },
  {
   "cell_type": "code",
   "execution_count": 9,
   "id": "94c21185",
   "metadata": {},
   "outputs": [
    {
     "data": {
      "text/plain": [
       "<AxesSubplot:xlabel='Scores', ylabel='count'>"
      ]
     },
     "execution_count": 9,
     "metadata": {},
     "output_type": "execute_result"
    },
    {
     "data": {
      "image/png": "[encoded data removed]",
      "text/plain": [
       "<Figure size 432x288 with 1 Axes>"
      ]
     },
     "metadata": {
      "needs_background": "light"
     },
     "output_type": "display_data"
    }
   ],
   "source": [
    "sns.countplot(x=\"Scores\", data=s_data)"
   ]
  },
  {
   "cell_type": "markdown",
   "id": "cbf8e7d1",
   "metadata": {},
   "source": [
    "Here, we'll plot regression line and test data."
   ]
  },
  {
   "cell_type": "code",
   "execution_count": 10,
   "id": "5b433dcf",
   "metadata": {},
   "outputs": [
    {
     "data": {
      "image/png": "[encoded data removed]",
      "text/plain": [
       "<Figure size 432x288 with 1 Axes>"
      ]
     },
     "metadata": {
      "needs_background": "light"
     },
     "output_type": "display_data"
    }
   ],
   "source": [
    "line = regressor.coef_*X+regressor.intercept_       #y=mx+c\n",
    "\n",
    "plt.scatter(X, y)\n",
    "plt.plot(X, line, color=\"yellow\");\n",
    "plt.title('Prediction of marks')  \n",
    "plt.xlabel('Hours Studied')  \n",
    "plt.ylabel('Obtained sore') \n",
    "plt.show()"
   ]
  },
  {
   "cell_type": "markdown",
   "id": "7d387c6f",
   "metadata": {},
   "source": [
    "## Process of Making Prediction"
   ]
  },
  {
   "cell_type": "code",
   "execution_count": 11,
   "id": "78036c7b",
   "metadata": {},
   "outputs": [
    {
     "name": "stdout",
     "output_type": "stream",
     "text": [
      "[[1.5]\n",
      " [3.2]\n",
      " [7.4]\n",
      " [2.5]\n",
      " [5.9]]\n"
     ]
    }
   ],
   "source": [
    "# Predicting the scores\n",
    "print(X_test) \n",
    "y_pred = regressor.predict(X_test) "
   ]
  },
  {
   "cell_type": "code",
   "execution_count": 12,
   "id": "0f81d1a7",
   "metadata": {},
   "outputs": [
    {
     "data": {
      "text/html": [
       "<div>\n",
       "<style scoped>\n",
       "    .dataframe tbody tr th:only-of-type {\n",
       "        vertical-align: middle;\n",
       "    }\n",
       "\n",
       "    .dataframe tbody tr th {\n",
       "        vertical-align: top;\n",
       "    }\n",
       "\n",
       "    .dataframe thead th {\n",
       "        text-align: right;\n",
       "    }\n",
       "</style>\n",
       "<table border=\"1\" class=\"dataframe\">\n",
       "  <thead>\n",
       "    <tr style=\"text-align: right;\">\n",
       "      <th></th>\n",
       "      <th>Actual</th>\n",
       "      <th>Predicted</th>\n",
       "    </tr>\n",
       "  </thead>\n",
       "  <tbody>\n",
       "    <tr>\n",
       "      <th>0</th>\n",
       "      <td>20</td>\n",
       "      <td>16.884145</td>\n",
       "    </tr>\n",
       "    <tr>\n",
       "      <th>1</th>\n",
       "      <td>27</td>\n",
       "      <td>33.732261</td>\n",
       "    </tr>\n",
       "    <tr>\n",
       "      <th>2</th>\n",
       "      <td>69</td>\n",
       "      <td>75.357018</td>\n",
       "    </tr>\n",
       "    <tr>\n",
       "      <th>3</th>\n",
       "      <td>30</td>\n",
       "      <td>26.794801</td>\n",
       "    </tr>\n",
       "    <tr>\n",
       "      <th>4</th>\n",
       "      <td>62</td>\n",
       "      <td>60.491033</td>\n",
       "    </tr>\n",
       "  </tbody>\n",
       "</table>\n",
       "</div>"
      ],
      "text/plain": [
       "   Actual  Predicted\n",
       "0      20  16.884145\n",
       "1      27  33.732261\n",
       "2      69  75.357018\n",
       "3      30  26.794801\n",
       "4      62  60.491033"
      ]
     },
     "execution_count": 12,
     "metadata": {},
     "output_type": "execute_result"
    }
   ],
   "source": [
    "# Comparison between Actual vs Predicted\n",
    "df = pd.DataFrame({'Actual': y_test, 'Predicted': y_pred})  \n",
    "df "
   ]
  },
  {
   "cell_type": "code",
   "execution_count": 13,
   "id": "00f1e3fd",
   "metadata": {},
   "outputs": [
    {
     "name": "stdout",
     "output_type": "stream",
     "text": [
      "No of Hours = 9.25\n",
      "Predicted Score = 93.69173248737538\n"
     ]
    }
   ],
   "source": [
    "#Predicting score if a student studies 9.25 hours/day\n",
    "hours = 9.25\n",
    "own_pre= regressor.predict([[hours]])\n",
    "print(\"No of Hours = {}\".format(hours))\n",
    "print(\"Predicted Score = {}\".format(own_pre[0]))"
   ]
  },
  {
   "cell_type": "code",
   "execution_count": 14,
   "id": "f7b51398",
   "metadata": {},
   "outputs": [
    {
     "name": "stdout",
     "output_type": "stream",
     "text": [
      "Predicted score if a student studies 9.25 hours/day is 93.69.\n"
     ]
    }
   ],
   "source": [
    "print(\"Predicted score if a student studies 9.25 hours/day is 93.69.\")"
   ]
  },
  {
   "cell_type": "markdown",
   "id": "6224557b",
   "metadata": {},
   "source": [
    "## Model Evaluation"
   ]
  },
  {
   "cell_type": "markdown",
   "id": "a53fc7a0",
   "metadata": {},
   "source": [
    "Here, we'll use different performance metrices for evaluateion of our model."
   ]
  },
  {
   "cell_type": "code",
   "execution_count": 15,
   "id": "3b3a3c1d",
   "metadata": {},
   "outputs": [
    {
     "name": "stdout",
     "output_type": "stream",
     "text": [
      "Mean Absolute Error: 4.183859899002975\n",
      "Mean Square Error: 21.5987693072174\n"
     ]
    }
   ],
   "source": [
    "from sklearn import metrics \n",
    "#Mean Absolute Error\n",
    "print('Mean Absolute Error:', \n",
    "      metrics.mean_absolute_error(y_test, y_pred)) \n",
    "#Mean Square Error\n",
    "print('Mean Square Error:', \n",
    "      metrics.mean_squared_error(y_test, y_pred)) "
   ]
  },
  {
   "cell_type": "markdown",
   "id": "2e63b1ce",
   "metadata": {},
   "source": [
    "## Thank You, that's all."
   ]
  }
 ],
 "metadata": {
  "kernelspec": {
   "display_name": "Python 3",
   "language": "python",
   "name": "python3"
  },
  "language_info": {
   "codemirror_mode": {
    "name": "ipython",
    "version": 3
   },
   "file_extension": ".py",
   "mimetype": "text/x-python",
   "name": "python",
   "nbconvert_exporter": "python",
   "pygments_lexer": "ipython3",
   "version": "3.8.8"
  }
 },
 "nbformat": 4,
 "nbformat_minor": 5
}
